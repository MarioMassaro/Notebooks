{
  "nbformat": 4,
  "nbformat_minor": 5,
  "metadata": {
    "hide_input": false,
    "kernelspec": {
      "display_name": "Python 3",
      "language": "python",
      "name": "python3"
    },
    "language_info": {
      "codemirror_mode": {
        "name": "ipython",
        "version": 3
      },
      "file_extension": ".py",
      "mimetype": "text/x-python",
      "name": "python",
      "nbconvert_exporter": "python",
      "pygments_lexer": "ipython3",
      "version": "3.8.8"
    },
    "toc": {
      "base_numbering": 1,
      "nav_menu": {},
      "number_sections": true,
      "sideBar": true,
      "skip_h1_title": false,
      "title_cell": "Table of Contents",
      "title_sidebar": "Contents",
      "toc_cell": false,
      "toc_position": {},
      "toc_section_display": true,
      "toc_window_display": false
    },
    "varInspector": {
      "cols": {
        "lenName": 16,
        "lenType": 16,
        "lenVar": 40
      },
      "kernels_config": {
        "python": {
          "delete_cmd_postfix": "",
          "delete_cmd_prefix": "del ",
          "library": "var_list.py",
          "varRefreshCmd": "print(var_dic_list())"
        },
        "r": {
          "delete_cmd_postfix": ") ",
          "delete_cmd_prefix": "rm(",
          "library": "var_list.r",
          "varRefreshCmd": "cat(var_dic_list()) "
        }
      },
      "types_to_exclude": [
        "module",
        "function",
        "builtin_function_or_method",
        "instance",
        "_Feature"
      ],
      "window_display": false
    },
    "colab": {
      "name": "Credit.ipynb",
      "provenance": []
    }
  },
  "cells": [
    {
      "cell_type": "code",
      "metadata": {
        "ExecuteTime": {
          "end_time": "2021-03-26T12:45:01.776653Z",
          "start_time": "2021-03-26T12:45:01.753372Z"
        },
        "id": "blind-pressing"
      },
      "source": [
        "#importamos librerias\n",
        "\n",
        "# Visualizacion y tratado de datos\n",
        "import pandas as pd\n",
        "import numpy as np\n",
        "import seaborn as sns\n",
        "import pickle\n",
        "import matplotlib\n",
        "import matplotlib.pyplot as plt\n",
        "\n",
        "# Machine Learning\n",
        "from sklearn.model_selection import train_test_split\n",
        "from sklearn import datasets\n",
        "from sklearn.metrics import classification_report\n",
        "from sklearn.svm import SVC\n",
        "from sklearn.linear_model import LogisticRegression\n",
        "from sklearn.neighbors import KNeighborsClassifier\n",
        "from sklearn.model_selection import GridSearchCV\n",
        "from sklearn.preprocessing import StandardScaler\n",
        "from sklearn.pipeline import Pipeline\n",
        "from sklearn.model_selection import RepeatedKFold"
      ],
      "id": "blind-pressing",
      "execution_count": null,
      "outputs": []
    },
    {
      "cell_type": "code",
      "metadata": {
        "ExecuteTime": {
          "end_time": "2021-03-26T12:51:17.990956Z",
          "start_time": "2021-03-26T12:51:17.895247Z"
        },
        "id": "pressed-serial"
      },
      "source": [
        "# Leemos el dataframe\n",
        "df = pd.read_csv('test.csv')\n",
        "df_sample = pd.read_csv('sample_submission.csv')"
      ],
      "id": "pressed-serial",
      "execution_count": null,
      "outputs": []
    },
    {
      "cell_type": "code",
      "metadata": {
        "ExecuteTime": {
          "end_time": "2021-03-26T12:32:27.935974Z",
          "start_time": "2021-03-26T12:32:27.916958Z"
        },
        "id": "scenic-garbage"
      },
      "source": [
        "# Tratamos el dataframe\n",
        "df.dropna(subset=['NumberOfDependents'], inplace=True)\n",
        "df.reset_index(inplace=True)\n",
        "\n",
        "from sklearn.impute import KNNImputer\n",
        "\n",
        "imputer = KNNImputer(n_neighbors=2)\n",
        "imputer.fit(df[['MonthlyIncome']])\n",
        "df[['MonthlyIncome']] = imputer.transform(df[['MonthlyIncome']])"
      ],
      "id": "scenic-garbage",
      "execution_count": null,
      "outputs": []
    },
    {
      "cell_type": "code",
      "metadata": {
        "ExecuteTime": {
          "end_time": "2021-03-26T11:02:28.123896Z",
          "start_time": "2021-03-26T11:02:27.853708Z"
        },
        "id": "moderate-aluminum"
      },
      "source": [
        "# Visualizamos\n",
        "plt.figure(figsize=(7,7))\n",
        "sns.heatmap(df.corr(), vmin=-1 , vmax=1 , cmap=sns.diverging_palette(148,280, s=85, l=25 , n=7), square = True, linewidths=.5);"
      ],
      "id": "moderate-aluminum",
      "execution_count": null,
      "outputs": []
    },
    {
      "cell_type": "code",
      "metadata": {
        "ExecuteTime": {
          "end_time": "2021-03-26T12:31:49.052221Z",
          "start_time": "2021-03-26T12:31:49.031602Z"
        },
        "id": "southwest-shannon"
      },
      "source": [
        "# Seguimos con el tratamiento post-visualizacion\n",
        "df.drop(columns=['index'], inplace=True)\n",
        "X = df.drop(['SeriousDlqin2yrs'], axis=1)\n",
        "y = df['SeriousDlqin2yrs']"
      ],
      "id": "southwest-shannon",
      "execution_count": null,
      "outputs": []
    },
    {
      "cell_type": "code",
      "metadata": {
        "ExecuteTime": {
          "end_time": "2021-03-26T12:31:53.520135Z",
          "start_time": "2021-03-26T12:31:53.457594Z"
        },
        "id": "steady-stake"
      },
      "source": [
        "# dividimos en train, test, split\n",
        "from sklearn.model_selection import train_test_split\n",
        "X_train, X, y_train, y = train_test_split(X, y, test_size=0.20, random_state = 42)"
      ],
      "id": "steady-stake",
      "execution_count": null,
      "outputs": []
    },
    {
      "cell_type": "code",
      "metadata": {
        "ExecuteTime": {
          "end_time": "2021-03-26T12:32:09.154519Z",
          "start_time": "2021-03-26T12:31:55.260659Z"
        },
        "id": "involved-bridge",
        "outputId": "deb681fc-b4fb-4170-c655-c8d6b9fc5fea"
      },
      "source": [
        "# importamos el Random Forest\n",
        "from sklearn.ensemble import RandomForestClassifier\n",
        "\n",
        "rand_forest = RandomForestClassifier()\n",
        "\n",
        "rand_forest.fit(X_train, y_train)"
      ],
      "id": "involved-bridge",
      "execution_count": null,
      "outputs": [
        {
          "output_type": "execute_result",
          "data": {
            "text/plain": [
              "RandomForestClassifier()"
            ]
          },
          "metadata": {
            "tags": []
          },
          "execution_count": 129
        }
      ]
    },
    {
      "cell_type": "code",
      "metadata": {
        "ExecuteTime": {
          "end_time": "2021-03-26T11:02:56.963594Z",
          "start_time": "2021-03-26T11:02:56.680860Z"
        },
        "id": "separated-transaction"
      },
      "source": [
        "preds = rand_forest.predict(X_test)"
      ],
      "id": "separated-transaction",
      "execution_count": null,
      "outputs": []
    },
    {
      "cell_type": "code",
      "metadata": {
        "ExecuteTime": {
          "end_time": "2021-03-26T11:03:02.783479Z",
          "start_time": "2021-03-26T11:03:02.465805Z"
        },
        "scrolled": true,
        "id": "stupid-secretary",
        "outputId": "18471477-a764-4d98-a999-9a3b5f2cf8a0"
      },
      "source": [
        "# Comprobamos metricas\n",
        "from sklearn.metrics import accuracy_score, f1_score, precision_score, recall_score,\\\n",
        "                            roc_auc_score, roc_curve, precision_recall_curve, confusion_matrix\n",
        "\n",
        "print(\"Score del modelo (accuracy):\", round(rand_forest.score(X_test, y_test), 3))\n",
        "print(\"Accuracy score:\", round(accuracy_score(preds, y_test), 3))\n",
        "print(\"Recall score:\", round(recall_score(preds, y_test), 3))\n",
        "print(\"Precision score:\", round(precision_score(preds, y_test), 3))\n",
        "print(\"F1 score:\", round(f1_score(preds, y_test), 3))\n",
        "print(\"AUC:\", round(roc_auc_score(preds, y_test), 3))"
      ],
      "id": "stupid-secretary",
      "execution_count": null,
      "outputs": [
        {
          "output_type": "stream",
          "text": [
            "Score del modelo (accuracy): 0.935\n",
            "Accuracy score: 0.935\n",
            "Recall score: 0.538\n",
            "Precision score: 0.155\n",
            "F1 score: 0.241\n",
            "AUC: 0.74\n"
          ],
          "name": "stdout"
        }
      ]
    },
    {
      "cell_type": "code",
      "metadata": {
        "ExecuteTime": {
          "end_time": "2021-03-26T11:49:20.054006Z",
          "start_time": "2021-03-26T11:48:08.515756Z"
        },
        "id": "indian-president",
        "outputId": "a4a6a1d9-6744-40df-c972-ba8f038118bc"
      },
      "source": [
        "# Creamos nuestro GridSearch para buscar el mejor modelo para nuestro proyecto\n",
        "\n",
        "from sklearn.model_selection import GridSearchCV\n",
        "from sklearn.tree import DecisionTreeClassifier\n",
        "from sklearn.ensemble import GradientBoostingClassifier\n",
        "\n",
        "pipe = Pipeline(steps=[\n",
        "    ('classifier', RandomForestClassifier())\n",
        "])\n",
        "# El RandomForestClassifier lo demanda el pipeline.\n",
        "\n",
        "\n",
        "logistic_params = {\n",
        "    'classifier': [LogisticRegression()],\n",
        "    'classifier__penalty': ['l1', 'l2'],\n",
        "    'classifier__C': [0.01, 0.1, 0.5, 1]\n",
        "}\n",
        "\n",
        "\n",
        "dtc_params = {\n",
        "    'classifier': [DecisionTreeClassifier()],\n",
        "    'classifier__max_depth': [10]\n",
        "}\n",
        "\n",
        "random_forest_params = {\n",
        "    'classifier': [RandomForestClassifier()]\n",
        "}\n",
        "\n",
        "\n",
        "gbc_params = {\n",
        "    'classifier': [GradientBoostingClassifier()],\n",
        "    'classifier__n_estimators': [10, 100, 1000],\n",
        "    'classifier__loss': ('deviance', 'exponential')\n",
        "}\n",
        "\n",
        "search_space = [\n",
        "    logistic_params,\n",
        "    dtc_params,\n",
        "    random_forest_params\n",
        "]\n",
        "\n",
        "# Corremos nuestro modelo\n",
        "\n",
        "clf = GridSearchCV(estimator=pipe,\n",
        "                   scoring='roc_auc',\n",
        "                   param_grid=search_space,\n",
        "                   cv=10,\n",
        "                   verbose=1,\n",
        "                   n_jobs=-1)\n",
        "\n",
        "clf.fit(X_train, y_train)"
      ],
      "id": "indian-president",
      "execution_count": null,
      "outputs": [
        {
          "output_type": "stream",
          "text": [
            "Fitting 10 folds for each of 10 candidates, totalling 100 fits\n"
          ],
          "name": "stdout"
        },
        {
          "output_type": "stream",
          "text": [
            "/Users/cris/opt/anaconda3/lib/python3.8/site-packages/joblib/externals/loky/process_executor.py:688: UserWarning: A worker stopped while some jobs were given to the executor. This can be caused by a too short worker timeout or by a memory leak.\n",
            "  warnings.warn(\n",
            "/Users/cris/opt/anaconda3/lib/python3.8/site-packages/sklearn/model_selection/_search.py:918: UserWarning: One or more of the test scores are non-finite: [       nan 0.64659227        nan 0.64600913        nan 0.64668804\n",
            "        nan 0.64615918 0.80139333 0.84475947]\n",
            "  warnings.warn(\n"
          ],
          "name": "stderr"
        },
        {
          "output_type": "execute_result",
          "data": {
            "text/plain": [
              "GridSearchCV(cv=10,\n",
              "             estimator=Pipeline(steps=[('classifier',\n",
              "                                        RandomForestClassifier())]),\n",
              "             n_jobs=-1,\n",
              "             param_grid=[{'classifier': [LogisticRegression()],\n",
              "                          'classifier__C': [0.01, 0.1, 0.5, 1],\n",
              "                          'classifier__penalty': ['l1', 'l2']},\n",
              "                         {'classifier': [DecisionTreeClassifier()],\n",
              "                          'classifier__max_depth': [10]},\n",
              "                         {'classifier': [RandomForestClassifier()]}],\n",
              "             scoring='roc_auc', verbose=1)"
            ]
          },
          "metadata": {
            "tags": []
          },
          "execution_count": 27
        }
      ]
    },
    {
      "cell_type": "code",
      "metadata": {
        "ExecuteTime": {
          "end_time": "2021-03-26T11:49:29.526863Z",
          "start_time": "2021-03-26T11:49:29.521084Z"
        },
        "id": "olive-pepper",
        "outputId": "d74a6746-bccd-45a1-fd9c-5a4fbbb48cfe"
      },
      "source": [
        "# Revisamos nuestro mejor modelo\n",
        "print(clf.best_estimator_)\n",
        "print(clf.best_params_)\n",
        "print(clf.best_score_)"
      ],
      "id": "olive-pepper",
      "execution_count": null,
      "outputs": [
        {
          "output_type": "stream",
          "text": [
            "Pipeline(steps=[('classifier', RandomForestClassifier())])\n",
            "{'classifier': RandomForestClassifier()}\n",
            "0.8447594690992556\n"
          ],
          "name": "stdout"
        }
      ]
    },
    {
      "cell_type": "code",
      "metadata": {
        "ExecuteTime": {
          "end_time": "2021-03-26T12:05:57.156603Z",
          "start_time": "2021-03-26T12:04:28.956416Z"
        },
        "id": "indie-grave",
        "outputId": "65896ce1-952d-40fd-c820-8e4c2f34d854"
      },
      "source": [
        "# Probamos de nuevo con otro modelo a ver si mejora \n",
        "\n",
        "from sklearn.model_selection import GridSearchCV\n",
        "from sklearn.tree import DecisionTreeClassifier\n",
        "from sklearn.ensemble import GradientBoostingClassifier\n",
        "\n",
        "pipe = Pipeline(steps=[\n",
        "    ('classifier', RandomForestClassifier())\n",
        "])\n",
        "\n",
        "\n",
        "gbc_params = {\n",
        "    'classifier': [GradientBoostingClassifier()],\n",
        "    'classifier__loss': ['exponential'],\n",
        "    'classifier__learning_rate': [0.1, 0.5]\n",
        "}\n",
        "\n",
        "\n",
        "search_space = [\n",
        "    gbc_params\n",
        "]\n",
        "\n",
        "clf = GridSearchCV(estimator=pipe,\n",
        "                   scoring='roc_auc',\n",
        "                   param_grid=search_space,\n",
        "                   cv=10,\n",
        "                   verbose=1,\n",
        "                   n_jobs=-1)\n",
        "# Corremos nuestro modelo unicamente con el gradient boosting\n",
        "\n",
        "grids = {\n",
        "    'gbc': clf\n",
        "}\n",
        "\n",
        "clf.fit(X_train, y_train)"
      ],
      "id": "indie-grave",
      "execution_count": null,
      "outputs": [
        {
          "output_type": "stream",
          "text": [
            "Fitting 10 folds for each of 2 candidates, totalling 20 fits\n"
          ],
          "name": "stdout"
        },
        {
          "output_type": "execute_result",
          "data": {
            "text/plain": [
              "GridSearchCV(cv=10,\n",
              "             estimator=Pipeline(steps=[('classifier',\n",
              "                                        RandomForestClassifier())]),\n",
              "             n_jobs=-1,\n",
              "             param_grid=[{'classifier': [GradientBoostingClassifier(loss='exponential')],\n",
              "                          'classifier__learning_rate': [0.1, 0.5],\n",
              "                          'classifier__loss': ['exponential']}],\n",
              "             scoring='roc_auc', verbose=1)"
            ]
          },
          "metadata": {
            "tags": []
          },
          "execution_count": 40
        }
      ]
    },
    {
      "cell_type": "code",
      "metadata": {
        "ExecuteTime": {
          "end_time": "2021-03-26T12:06:00.467154Z",
          "start_time": "2021-03-26T12:06:00.460327Z"
        },
        "scrolled": true,
        "id": "quiet-phase",
        "outputId": "b6a9ec78-4189-4da0-ed28-25840e4a9529"
      },
      "source": [
        "# Revisamos nuestro mejor modelo\n",
        "print(clf.best_estimator_)\n",
        "print(clf.best_params_)\n",
        "print(clf.best_score_)"
      ],
      "id": "quiet-phase",
      "execution_count": null,
      "outputs": [
        {
          "output_type": "stream",
          "text": [
            "Pipeline(steps=[('classifier', GradientBoostingClassifier(loss='exponential'))])\n",
            "{'classifier': GradientBoostingClassifier(loss='exponential'), 'classifier__learning_rate': 0.1, 'classifier__loss': 'exponential'}\n",
            "0.8627666362137341\n"
          ],
          "name": "stdout"
        }
      ]
    },
    {
      "cell_type": "code",
      "metadata": {
        "ExecuteTime": {
          "end_time": "2021-03-26T12:45:21.478747Z",
          "start_time": "2021-03-26T12:45:21.471330Z"
        },
        "id": "manufactured-mobility",
        "outputId": "6bd5c2c3-5a85-4680-bf3f-42742e1a453b"
      },
      "source": [
        "# el gradient boosting fue el mejor modelo por lo que nos quedamos con el\n",
        "clf.best_estimator_"
      ],
      "id": "manufactured-mobility",
      "execution_count": null,
      "outputs": [
        {
          "output_type": "execute_result",
          "data": {
            "text/plain": [
              "Pipeline(steps=[('classifier', GradientBoostingClassifier(loss='exponential'))])"
            ]
          },
          "metadata": {
            "tags": []
          },
          "execution_count": 138
        }
      ]
    }
  ]
}